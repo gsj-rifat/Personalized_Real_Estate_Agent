{
 "cells": [
  {
   "cell_type": "code",
   "execution_count": 2,
   "id": "db1c3dd8",
   "metadata": {},
   "outputs": [],
   "source": [
    "import os\n",
    "from langchain.embeddings import OpenAIEmbeddings\n",
    "from langchain.chat_models import ChatOpenAI\n",
    "from langchain.document_loaders import CSVLoader\n",
    "from langchain.text_splitter import CharacterTextSplitter\n",
    "from langchain.vectorstores import Chroma\n",
    "from langchain.memory import ConversationSummaryMemory, ChatMessageHistory\n",
    "from langchain.prompts import PromptTemplate\n",
    "from langchain.chains import ConversationalRetrievalChain"
   ]
  },
  {
   "cell_type": "code",
   "execution_count": 3,
   "id": "6554fd4c",
   "metadata": {},
   "outputs": [],
   "source": [
    "import os\n",
    "\n",
    "os.environ[\"OPENAI_API_KEY\"] = \"your api key\"\n",
    "os.environ[\"OPENAI_API_BASE\"] = \"https://openai.vocareum.com/v1\"\n"
   ]
  },
  {
   "cell_type": "code",
   "execution_count": 4,
   "id": "ff3e2538",
   "metadata": {},
   "outputs": [],
   "source": [
    "# Initialize chat model\n",
    "llm = ChatOpenAI(model=\"gpt-3.5-turbo\", temperature=0.3, max_tokens=2000)\n",
    "\n",
    "# Step 1: Generate Home Listings using LLM\n",
    "prompt_template = PromptTemplate(\n",
    "    template=\"\"\"\n",
    "Generate a CSV table about {topic} with these columns: {attributes}.\n",
    "Use real-world examples. Generate {rows} rows. Output only the CSV content.\n",
    "\"\"\",\n",
    "    input_variables=[\"topic\", \"attributes\", \"rows\"]\n",
    ")\n"
   ]
  },
  {
   "cell_type": "code",
   "execution_count": 4,
   "id": "ca6e9fb4",
   "metadata": {},
   "outputs": [
    {
     "name": "stdout",
     "output_type": "stream",
     "text": [
      "Neighborhood,Location,Bedrooms,Bathrooms,House Size (sqft),Price (k$)\n",
      "Westwood,Los Angeles,4,3,2500,1200\n",
      "Upper East Side,New York City,3,2,1800,1500\n",
      "Georgetown,Washington D.C.,5,4,3500,2000\n",
      "South Beach,Miami,2,2,1200,800\n",
      "Pacific Heights,San Francisco,4,3,2800,1800\n",
      "Old Town,Chicago,3,2,2000,1000\n",
      "Capitol Hill,Seattle,3,2,1900,900\n",
      "Buckhead,Atlanta,4,3,2600,1100\n",
      "South End,Boston,2,1,1500,1200\n",
      "Downtown,Austin,1,1,800,500\n",
      "Queen Anne,Seattle,5,4,4000,2500\n",
      "South Loop,Chicago,2,2,1400,700\n",
      "Mission District,San Francisco,3,2,1800,1600\n",
      "Midtown,Atlanta,1,1,900,600\n",
      "Dupont Circle,Washington D.C.,2,1,1300,1000\n",
      "South Beach,Miami,3,3,2200,1500\n",
      "Greenwich Village,New York City,4,3,2700,1900\n",
      "Venice Beach,Los Angeles,2,1,1600,1100\n",
      "Back Bay,Boston,3,2,1900,1300\n"
     ]
    }
   ],
   "source": [
    "prompt = '''\n",
    "generate a csv file that store information about {topic} \n",
    "make sure to include the following attriutes {attributes}. use a real word examples.\n",
    "generate {rows} rows\n",
    "\n",
    "print the data only without intro or end\n",
    "'''\n",
    "prompt_template = PromptTemplate(template=prompt, input_variables=['topic', 'attributes', 'rows'])\n",
    "\n",
    "res = llm(prompt_template.format(topic=\"Homes\", attributes=\"Neighborhood, location, bedrooms, bathrooms, house size (sqft), price (k$)\", rows=\"20\"))\n",
    "\n",
    "print(res)"
   ]
  },
  {
   "cell_type": "code",
   "execution_count": 7,
   "id": "d2cc8852",
   "metadata": {},
   "outputs": [],
   "source": [
    "generated_csv = llm.invoke(\n",
    "    prompt_template.format(\n",
    "        topic=\"Homes\",\n",
    "        attributes=\"Neighborhood, Location, Bedrooms, Bathrooms, House Size (sqft), Price (k$)\",\n",
    "        rows=\"20\"\n",
    "    )\n",
    ")\n",
    "\n",
    "# Save to CSV\n",
    "with open(\"data/listing.csv\", \"w\") as f:\n",
    "    f.write(generated_csv.content)"
   ]
  },
  {
   "cell_type": "code",
   "execution_count": 8,
   "id": "2d6d8491",
   "metadata": {},
   "outputs": [],
   "source": [
    "loader = CSVLoader(file_path=\"data/listing.csv\")\n",
    "docs = loader.load()"
   ]
  },
  {
   "cell_type": "code",
   "execution_count": 9,
   "id": "663b617d",
   "metadata": {},
   "outputs": [],
   "source": [
    "text_splitter = CharacterTextSplitter(chunk_size=1000, chunk_overlap=0)\n",
    "split_docs = text_splitter.split_documents(docs)\n",
    "\n",
    "embedding = OpenAIEmbeddings()\n",
    "db = Chroma.from_documents(documents=split_docs, embedding=embedding, persist_directory=\"db\")\n",
    "retriever = db.as_retriever()"
   ]
  },
  {
   "cell_type": "code",
   "execution_count": 10,
   "id": "1d48abcf",
   "metadata": {},
   "outputs": [],
   "source": [
    "# Step 3: Simulate buyer preferences\n",
    "personal_questions = [\n",
    "    \"How many rooms do you want in your house?\",\n",
    "    \"Please tell me about the surroundings in choosing this property?\",\n",
    "    \"Which facilities would you like?\",\n",
    "    \"Which transportation options are important to you?\",\n",
    "    \"How urban or rural do you want your neighborhood to be?\"\n",
    "]\n",
    "\n",
    "personal_answers = [\n",
    "    \"A comfortable three-bedroom house with a spacious kitchen and a cozy living room.\",\n",
    "    \"A quiet neighborhood, good local schools, and convenient shopping options.\",\n",
    "    \"A backyard for gardening, a two-car garage, and a modern, energy-efficient heating system.\",\n",
    "    \"Easy access to a reliable bus line, proximity to a major highway, and bike-friendly roads.\",\n",
    "    \"A balance between suburban tranquility and access to urban amenities like restaurants and theaters.\"\n",
    "]\n",
    "\n",
    "history = ChatMessageHistory()\n",
    "history.add_user_message(\n",
    "    f\"You are an AI sales assistant. Ask the user {len(personal_questions)} questions to understand preferences.\"\n",
    ")\n",
    "for question, answer in zip(personal_questions, personal_answers):\n",
    "    history.add_ai_message(question)\n",
    "    history.add_user_message(answer)\n",
    "\n",
    "history.add_ai_message(\"Now summarize the preferred home features.\")"
   ]
  },
  {
   "cell_type": "code",
   "execution_count": 11,
   "id": "1c255a96",
   "metadata": {},
   "outputs": [],
   "source": [
    "memory = ConversationSummaryMemory(\n",
    "    llm=llm,\n",
    "    chat_memory=history,\n",
    "    memory_key=\"chat_history\",\n",
    "    input_key=\"question\",\n",
    "    buffer=\"Summarize user preferences based on their answers. Focus on location, budget, area, and features.\",\n",
    "    return_messages=True\n",
    ")"
   ]
  },
  {
   "cell_type": "code",
   "execution_count": 12,
   "id": "85bb20f8",
   "metadata": {},
   "outputs": [],
   "source": [
    "# Step 4: Define prompt for retrieval\n",
    "qa_prompt = PromptTemplate(\n",
    "    template=\"\"\"\n",
    "You are a sales assistant helping a home buyer.\n",
    "Use the retrieved context and customer preferences to suggest a suitable home.\n",
    "Keep it attractive and concise. Max 5 sentences.\n",
    "\n",
    "Context: {context}\n",
    "Preferences: {chat_history}\n",
    "Question: {question}\n",
    "\n",
    "Answer:\n",
    "\"\"\",\n",
    "    input_variables=[\"context\", \"chat_history\", \"question\"]\n",
    ")"
   ]
  },
  {
   "cell_type": "code",
   "execution_count": 13,
   "id": "67110c93",
   "metadata": {},
   "outputs": [],
   "source": [
    "# Step 5: Build Conversational Retrieval Chain\n",
    "chain = ConversationalRetrievalChain.from_llm(\n",
    "    llm=llm,\n",
    "    retriever=retriever,\n",
    "    memory=memory,\n",
    "    chain_type=\"stuff\",\n",
    "    combine_docs_chain_kwargs={\"prompt\": qa_prompt}\n",
    ")"
   ]
  },
  {
   "cell_type": "code",
   "execution_count": 14,
   "id": "c9c2cb22",
   "metadata": {},
   "outputs": [
    {
     "name": "stdout",
     "output_type": "stream",
     "text": [
      "\n",
      "Personalized Recommendation:\n",
      "\n",
      "Based on your preferences for a 4-bedroom, 3-bathroom home in a desirable location within your budget, I recommend the property in the Mission District, San Francisco. This home offers the perfect combination of space, amenities, and location, all at a competitive price of $1800k. Don't miss out on this opportunity to own a beautiful home in one of San Francisco's most sought-after neighborhoods!\n"
     ]
    }
   ],
   "source": [
    "# Step 6: Run assistant\n",
    "query = \"As a sales assistant, show the best matching home for this user in an appealing format.\"\n",
    "result = chain({\"question\": query})\n",
    "print(\"\\nPersonalized Recommendation:\\n\")\n",
    "print(result[\"answer\"])"
   ]
  },
  {
   "cell_type": "markdown",
   "id": "c71207c5",
   "metadata": {},
   "source": [
    "# Creating the Agent"
   ]
  },
  {
   "cell_type": "code",
   "execution_count": 18,
   "id": "620aa794",
   "metadata": {},
   "outputs": [
    {
     "name": "stdout",
     "output_type": "stream",
     "text": [
      "How many rooms do you want in your house?\n",
      "Answer: at least 3 rooms\n",
      "Please tell me about the surroundings in choosing this property?\n",
      "Answer: sunset, beach, plazground\n",
      "Which facilities would you like?\n",
      "Answer: market, school\n",
      "Which transportation options are important to you?\n",
      "Answer: bus and car\n",
      "How urban or rural do you want your neighborhood to be?\n",
      "Answer: urban\n",
      "Based on your preferences, I have found a stunning 4 bedroom, 3 bathroom home in the desirable Mission District of San Francisco. This spacious 2200 sqft home is listed at $1800k, offering ample space for your family. The vibrant neighborhood and prime location make it a perfect choice for you. Don't miss out on this amazing opportunity to own a beautiful home in the heart of San Francisco!\n"
     ]
    }
   ],
   "source": [
    "# import libraries\n",
    "from langchain.chains.conversational_retrieval.base import ConversationalRetrievalChain\n",
    "from langchain.document_loaders.csv_loader import CSVLoader\n",
    "from langchain.embeddings.openai import OpenAIEmbeddings\n",
    "from langchain.llms import OpenAI\n",
    "from langchain.chat_models import ChatOpenAI\n",
    "from langchain.text_splitter import CharacterTextSplitter\n",
    "from langchain.vectorstores import Chroma\n",
    "from langchain.chains import RetrievalQA\n",
    "from langchain.prompts import PromptTemplate\n",
    "from langchain import LLMChain\n",
    "from langchain.memory import ConversationSummaryMemory, ChatMessageHistory\n",
    "import os\n",
    "\n",
    "personal_questions = [\n",
    "    \"How many rooms do you want in your house?\",\n",
    "    \"Please tell me about the surroundings in choosing this property?\",\n",
    "    \"Which facilities would you like?\",\n",
    "    \"Which transportation options are important to you?\",\n",
    "    \"How urban or rural do you want your neighborhood to be?\"\n",
    "]\n",
    "\n",
    "# load gpt model\n",
    "model_name = 'gpt-3.5-turbo'\n",
    "llm = ChatOpenAI(model_name=model_name, temperature=0.3, max_tokens=100)\n",
    "\n",
    "# read and load the csv file that store homes data\n",
    "loader = CSVLoader(file_path='data/listing.csv')\n",
    "docs = loader.load()\n",
    "\n",
    "# create vector store index and query the data\n",
    "splitter = CharacterTextSplitter(chunk_size=1000, chunk_overlap=0)\n",
    "split_docs = splitter.split_documents(docs)\n",
    "\n",
    "embeddings = OpenAIEmbeddings()\n",
    "\n",
    "db = Chroma.from_documents(documents=split_docs, embedding=embeddings)\n",
    "\n",
    "# create a chat with the customer and summarize it\n",
    "history = ChatMessageHistory()\n",
    "history.add_user_message(\n",
    "    f\"\"\"You are AI sales assisstant that will recommend user a home based on their answers to personal questions. Ask user {len(personal_questions)} questions\"\"\")\n",
    "for question in personal_questions:\n",
    "    history.add_ai_message(question)\n",
    "    user_answer = input(f\"{question}\\nAnswer: \")\n",
    "    history.add_user_message(user_answer)\n",
    "\n",
    "history.add_ai_message(\"\"\"Now tell me a summary of a home you're considering in points\"\"\")\n",
    "memory = ConversationSummaryMemory(\n",
    "    llm=llm,\n",
    "    chat_memory=history,\n",
    "    memory_key=\"chat_history\",\n",
    "    input_key=\"question\",\n",
    "    buffer=f\"The person answered {len(personal_questions)} personal questions. Use them to extract home attributes like location, price, home area and number of rooms\",\n",
    "    return_messages=True)\n",
    "\n",
    "\n",
    "# create a prompt\n",
    "prompt = PromptTemplate(\n",
    "    template=\"You are an sales assistant who buy homes. Use the following pieces of retrieved context and customer prefrences to provide the customer with information about available home. Use five sentences maximum and keep the answer attractive. \\nContext: {context} \\nCustomer's prefernced: {chat_history} \\nQuestion: {question}\\nAnswer:\",\n",
    "    input_variables=['context', 'chat_history', 'question']\n",
    ")\n",
    "\n",
    "# create question and answer model to retrieve answers from retrived information\n",
    "chain_type_kwargs = {'prompt': prompt}\n",
    "\n",
    "chain = ConversationalRetrievalChain.from_llm(\n",
    "    llm=llm,\n",
    "    chain_type=\"stuff\",\n",
    "    retriever=db.as_retriever(),\n",
    "    combine_docs_chain_kwargs=chain_type_kwargs,\n",
    "    memory=memory\n",
    ")\n",
    "\n",
    "# take input from user\n",
    "query = \"as a sales assisstant, represent the answer in professional way\"\n",
    "\n",
    "# run the query\n",
    "result = chain({\"question\": query})\n",
    "print(result['answer'])"
   ]
  },
  {
   "cell_type": "code",
   "execution_count": null,
   "id": "e89795f7",
   "metadata": {},
   "outputs": [],
   "source": []
  },
  {
   "cell_type": "code",
   "execution_count": null,
   "id": "ca5134c7",
   "metadata": {},
   "outputs": [],
   "source": []
  }
 ],
 "metadata": {
  "kernelspec": {
   "display_name": "Python 3 (ipykernel)",
   "language": "python",
   "name": "python3"
  },
  "language_info": {
   "codemirror_mode": {
    "name": "ipython",
    "version": 3
   },
   "file_extension": ".py",
   "mimetype": "text/x-python",
   "name": "python",
   "nbconvert_exporter": "python",
   "pygments_lexer": "ipython3",
   "version": "3.10.11"
  }
 },
 "nbformat": 4,
 "nbformat_minor": 5
}
